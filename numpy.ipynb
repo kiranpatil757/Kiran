{
 "cells": [
  {
   "cell_type": "code",
   "execution_count": null,
   "id": "2f5f804a-38fb-4e71-8387-7607ab2cd85b",
   "metadata": {},
   "outputs": [],
   "source": [
    "pip install numpy"
   ]
  },
  {
   "cell_type": "code",
   "execution_count": null,
   "id": "460e304b-61bf-4803-b663-677f1540d4f2",
   "metadata": {},
   "outputs": [],
   "source": [
    "#import numpy"
   ]
  },
  {
   "cell_type": "code",
   "execution_count": null,
   "id": "ae2b9e28-24b0-425b-8fff-36212197bb53",
   "metadata": {},
   "outputs": [],
   "source": [
    "import numpy as np"
   ]
  },
  {
   "cell_type": "code",
   "execution_count": null,
   "id": "35cc93f7-df32-4b9b-b858-39796dd4d67f",
   "metadata": {},
   "outputs": [],
   "source": [
    "# creatinng array \n",
    "arr =np.array([10,20,30,40,50])\n",
    "print(arr)"
   ]
  },
  {
   "cell_type": "code",
   "execution_count": null,
   "id": "9a8021f0-4b93-4e48-98d1-9808ed2d8f03",
   "metadata": {},
   "outputs": [],
   "source": [
    "print (np.__version__)"
   ]
  },
  {
   "cell_type": "code",
   "execution_count": null,
   "id": "1a9556bc-362b-43ea-83a5-a0a8932fbce6",
   "metadata": {},
   "outputs": [],
   "source": [
    "arr2=np.array([1,2,3,4,5,6])\n",
    "print(arr2)\n",
    "print(type(arr2))"
   ]
  },
  {
   "cell_type": "code",
   "execution_count": null,
   "id": "2a277b56-3ec8-419b-84dc-a37d1490bb30",
   "metadata": {},
   "outputs": [],
   "source": [
    "arr=np.array(42)\n",
    "print(arr)"
   ]
  },
  {
   "cell_type": "code",
   "execution_count": null,
   "id": "41354c81-e4df-45f1-b19e-8bdb23a43fea",
   "metadata": {},
   "outputs": [],
   "source": [
    "arr=np.array([[1,2,3,4,5,6]])\n",
    "print(arr)"
   ]
  },
  {
   "cell_type": "code",
   "execution_count": null,
   "id": "b3fc1a89-2904-441c-88a0-7a9160e601b2",
   "metadata": {},
   "outputs": [],
   "source": [
    "arr = np.array([1,2,3])\n",
    "for x in arr:\n",
    " print(x)"
   ]
  },
  {
   "cell_type": "code",
   "execution_count": null,
   "id": "2d489777-378f-4e03-8604-fa38ed740dce",
   "metadata": {},
   "outputs": [],
   "source": [
    "# Accessing elements for -ve index\n",
    "arr=np.array([[1,2,3,4,5],\n",
    "                  [6,7,8,9,10]])\n",
    "print(arr[0,-2])"
   ]
  },
  {
   "cell_type": "code",
   "execution_count": null,
   "id": "3f6f2765-13e5-4426-b82f-b08f05b526c6",
   "metadata": {},
   "outputs": [],
   "source": [
    "# slicing elements from array \n",
    "arr = np.array([1, 2, 3, 4, 5, 6, 7, 8, 9, 10])\n",
    "print(arr[1:11:2])"
   ]
  },
  {
   "cell_type": "code",
   "execution_count": null,
   "id": "74d13dc4-06a7-4dd0-b47b-ceab25dcacd5",
   "metadata": {},
   "outputs": [],
   "source": [
    "# slicing with -ve\n",
    "arr = np.array([1, 2, 3, 4, 5, 6, 7, 8, 9, 10])\n",
    "print(arr[-5:-1])"
   ]
  },
  {
   "cell_type": "raw",
   "id": "6d1a9bca-f48c-4a3c-ba50-27ad8cc0df9e",
   "metadata": {},
   "source": [
    "# checking datatype of array \n",
    "\n",
    "arr =np.array([1,2,3,4,5])\n",
    " print(arr.dtype) "
   ]
  },
  {
   "cell_type": "code",
   "execution_count": null,
   "id": "ff8d2e1e-fe1a-4593-8226-b13454f0d72c",
   "metadata": {},
   "outputs": [],
   "source": [
    "# checking shape of an array \n",
    "\n",
    "arr=np.array([[1,2,3,4],\n",
    "             [5,6,7,8]])\n",
    "print(arr.shape)"
   ]
  },
  {
   "cell_type": "code",
   "execution_count": null,
   "id": "5a4f8c61-46c4-40ad-9ec4-46535a3f9ab5",
   "metadata": {},
   "outputs": [],
   "source": [
    "# checking size of an array \n",
    "arr=np.array([[1,2,3,4],\n",
    "             [5,6,7,8]])\n",
    "print(arr.size)"
   ]
  },
  {
   "cell_type": "code",
   "execution_count": null,
   "id": "b7dcd3f0-6202-439e-a44a-dcc5da2aaf1b",
   "metadata": {},
   "outputs": [],
   "source": [
    "# Reshaping arrays \n",
    "arr = np.array([1, 2, 3, 4, 5, 6, 7, 8, 9, 10,11,12])\n",
    "newarr=arr.reshape(4,3)\n",
    "print(newarr)"
   ]
  },
  {
   "cell_type": "code",
   "execution_count": null,
   "id": "d2ea1bb1-2485-42de-a6ba-a6b9830a0698",
   "metadata": {},
   "outputs": [],
   "source": [
    "# Joining array \n",
    "arr1=np.array([1,2,3])\n",
    "arr2=np.array([4,5,6])\n",
    "arr=np.concatenate((arr1,arr2))\n",
    "print(arr)"
   ]
  },
  {
   "cell_type": "code",
   "execution_count": null,
   "id": "0ebfeb1f-77a5-4b1b-ad33-81e9ad4499c6",
   "metadata": {},
   "outputs": [],
   "source": [
    "# spiling of an array \n",
    "\n",
    "arr=np.array([1,2,3,4,5,6])\n",
    "newarr=np.array_split(arr,6)\n",
    "print(newarr)"
   ]
  },
  {
   "cell_type": "code",
   "execution_count": null,
   "id": "ac0867c1-af8a-4a13-93f2-2454b1829ffc",
   "metadata": {},
   "outputs": [],
   "source": [
    "# searching for indexing an array \n",
    "arr=np.array([1,2,3,4,5,4,4])\n",
    "x=np.where(arr==4)\n",
    "print(x)"
   ]
  },
  {
   "cell_type": "code",
   "execution_count": null,
   "id": "8e83dc3e-9695-4694-8640-67fa52c83f48",
   "metadata": {},
   "outputs": [],
   "source": [
    "# sorting array \n",
    "# ascending order\n",
    "\n",
    "arr=np.array([3,2,0,1])\n",
    "print(np.sort(arr))"
   ]
  },
  {
   "cell_type": "code",
   "execution_count": null,
   "id": "13860fb5-53a2-41a3-aa05-75d95c594e7f",
   "metadata": {},
   "outputs": [],
   "source": [
    "# descending order\n",
    "\n",
    "arr=np.array([3,2,0,1])\n",
    "print(np.sort(arr)[::-1])"
   ]
  },
  {
   "cell_type": "code",
   "execution_count": null,
   "id": "ff3dc421-03fe-4686-b75e-5862e59e442c",
   "metadata": {},
   "outputs": [],
   "source": [
    "# flitering array elemets\n",
    "\n",
    "arr = np.array([41, 42, 43, 44])\n",
    "x = [True, False, True, False]\n",
    "newarr = arr[x]\n",
    "print(newarr)"
   ]
  },
  {
   "cell_type": "code",
   "execution_count": null,
   "id": "ad506f9f-4312-41a0-9508-f3ccdb86cd26",
   "metadata": {},
   "outputs": [],
   "source": [
    "arr = np.array([41, 42, 43, 44])\n",
    "filter_arr = []  \n",
    "\n",
    "for element in arr:  \n",
    "    if element > 42:                 \n",
    "        filter_arr.append(True)\n",
    "    else:\n",
    "        filter_arr.append(False)    \n",
    "\n",
    "newarr = arr[filter_arr]\n",
    "print(filter_arr)\n",
    "print(newarr)\n"
   ]
  },
  {
   "cell_type": "code",
   "execution_count": null,
   "id": "d37e8f13-05fc-4799-9424-c4e33c398041",
   "metadata": {},
   "outputs": [],
   "source": [
    "# conversion of datatype \n",
    "arr=np.array([1.0,2.7,3.6,4,5])\n",
    "print(arr.dtype)\n",
    "print(arr.astype(str))"
   ]
  },
  {
   "cell_type": "code",
   "execution_count": null,
   "id": "ca0e1760-4c25-49cf-b679-1a16227bfdfa",
   "metadata": {},
   "outputs": [],
   "source": [
    "# adding and removing elements\n",
    "arr=np.array([20,30,40,50])\n",
    "# append \n",
    "print(np.append(arr,60))"
   ]
  },
  {
   "cell_type": "code",
   "execution_count": null,
   "id": "25bde097-6237-457f-86b1-e85fda7a0a33",
   "metadata": {},
   "outputs": [],
   "source": [
    "# insert \n",
    "print (np.insert(arr,3,60))"
   ]
  },
  {
   "cell_type": "code",
   "execution_count": null,
   "id": "79aa4b19-6399-45e6-b064-540d88824218",
   "metadata": {},
   "outputs": [],
   "source": [
    "# delete\n",
    "print(np.delete(arr,[2]))"
   ]
  },
  {
   "cell_type": "code",
   "execution_count": null,
   "id": "e766aa2b-2e24-428d-874c-93a78f14ce7b",
   "metadata": {},
   "outputs": [],
   "source": [
    "# aggregating function \n",
    "\n",
    "a = np.array([10,20,30,40,50,60])\n",
    "\n",
    "# sum \n",
    "print(np.sum(a))"
   ]
  },
  {
   "cell_type": "code",
   "execution_count": null,
   "id": "489569be-c4eb-4eb7-8471-42d9d00aabd1",
   "metadata": {},
   "outputs": [],
   "source": [
    "#minimum\n",
    "print(np.min(a))"
   ]
  },
  {
   "cell_type": "code",
   "execution_count": null,
   "id": "8ae60012-303f-4c97-b4cd-af005ba70fe3",
   "metadata": {},
   "outputs": [],
   "source": [
    "#mazimum\n",
    "print(np.max(a))"
   ]
  },
  {
   "cell_type": "code",
   "execution_count": null,
   "id": "f391c0da-1980-48ed-962c-8950c740e953",
   "metadata": {},
   "outputs": [],
   "source": [
    "# cumulative sum \n",
    "print(np.cumsum(arr))"
   ]
  },
  {
   "cell_type": "code",
   "execution_count": null,
   "id": "54008b40-146d-4bc4-9811-f76d30efbfde",
   "metadata": {},
   "outputs": [],
   "source": [
    "# statistics as starts \n",
    "\n",
    "food_price=[10,20,50,60,70,20,20,30]\n",
    "arr=np.array(food_price)\n",
    "\n",
    "# mean \n",
    "print(np.mean(arr))"
   ]
  },
  {
   "cell_type": "code",
   "execution_count": null,
   "id": "e1fb6b38-0911-4cb8-be30-70c6b5d23ace",
   "metadata": {},
   "outputs": [],
   "source": [
    " #median\n",
    "print(np.median(arr))"
   ]
  },
  {
   "cell_type": "code",
   "execution_count": null,
   "id": "fa6a2532-c1b5-483d-b007-b113e2346a3d",
   "metadata": {},
   "outputs": [],
   "source": [
    "# mode \n",
    "print(\"Mode:\", stats.mode(arr, keepdims=True))\n",
    "\n"
   ]
  },
  {
   "cell_type": "code",
   "execution_count": null,
   "id": "0f857391-621d-4e59-b401-cf1bdf322fa1",
   "metadata": {},
   "outputs": [],
   "source": []
  },
  {
   "cell_type": "code",
   "execution_count": null,
   "id": "3ec25212-4856-40f5-9e82-dea024e54f5e",
   "metadata": {},
   "outputs": [],
   "source": []
  },
  {
   "cell_type": "code",
   "execution_count": null,
   "id": "ee923ad6-b6c8-4736-a31b-b12de1165ffe",
   "metadata": {},
   "outputs": [],
   "source": []
  }
 ],
 "metadata": {
  "kernelspec": {
   "display_name": "Python 3 (ipykernel)",
   "language": "python",
   "name": "python3"
  },
  "language_info": {
   "codemirror_mode": {
    "name": "ipython",
    "version": 3
   },
   "file_extension": ".py",
   "mimetype": "text/x-python",
   "name": "python",
   "nbconvert_exporter": "python",
   "pygments_lexer": "ipython3",
   "version": "3.13.5"
  }
 },
 "nbformat": 4,
 "nbformat_minor": 5
}
